{
 "cells": [
  {
   "cell_type": "code",
   "execution_count": 24,
   "metadata": {},
   "outputs": [
    {
     "name": "stdout",
     "output_type": "stream",
     "text": [
      "Fetching input for day 1\n",
      "  % Total    % Received % Xferd  Average Speed   Time    Time     Time  Current\n",
      "                                 Dload  Upload   Total   Spent    Left  Speed\n",
      "100 22096  100 22096    0     0  19361      0  0:00:01  0:00:01 --:--:-- 19416\n"
     ]
    }
   ],
   "source": [
    "pwd = !pwd\n",
    "day = pwd[0].split('/')[-1]\n",
    "print (f'Fetching input for day {day}')\n",
    "\n",
    "url = f'https://adventofcode.com/2023/day/{day}/input'\n",
    "input_path = 'input.txt'\n",
    "!curl {url} -H \"cookie: session=$(cat ../cookie.txt)\" > {input_path}"
   ]
  },
  {
   "cell_type": "code",
   "execution_count": 25,
   "metadata": {},
   "outputs": [
    {
     "name": "stdout",
     "output_type": "stream",
     "text": [
      "kjrqmzv9mmtxhgvsevenhvq7\n",
      "four2tszbgmxpbvninebxns6nineqbqzgjpmpqr\n",
      "rkzlnmzgnk91zckqprrptnthreefourtwo\n",
      "fouronevzkbnzm6seven47\n",
      "zphgdcznqsm2\n",
      "4gjnmxtrbflgp71\n",
      "4sqvv1cnpn\n",
      "8sevengzfvjrhnsb6ddb8ninerkgkxthtfkvbcmqs\n",
      "1seven336\n",
      "86one34vvvgdngbt39\n"
     ]
    }
   ],
   "source": [
    "!head {input_path}"
   ]
  },
  {
   "cell_type": "code",
   "execution_count": 26,
   "metadata": {},
   "outputs": [
    {
     "data": {
      "text/plain": [
       "55447"
      ]
     },
     "execution_count": 26,
     "metadata": {},
     "output_type": "execute_result"
    }
   ],
   "source": [
    "def parse(line):\n",
    "    digits = \"\".join([char for char in line if char.isdigit()])\n",
    "    return int(digits[0] + digits[-1])\n",
    "\n",
    "\n",
    "sum = 0\n",
    "with open(input_path) as f:\n",
    "    for line in f:\n",
    "        sum += parse(line)\n",
    "sum"
   ]
  },
  {
   "cell_type": "code",
   "execution_count": 27,
   "metadata": {},
   "outputs": [
    {
     "data": {
      "text/plain": [
       "54706"
      ]
     },
     "execution_count": 27,
     "metadata": {},
     "output_type": "execute_result"
    }
   ],
   "source": [
    "import re\n",
    "\n",
    "DIGITS = [\"one\", \"two\", \"three\", \"four\", \"five\", \"six\", \"seven\", \"eight\", \"nine\"]\n",
    "\n",
    "\n",
    "def parse(line):\n",
    "    pattern = f'(?=(\\\\d|{\"|\".join(DIGITS)}))'\n",
    "    matches = re.findall(pattern, line)\n",
    "    convert = lambda s: int(s) if s.isdigit() else DIGITS.index(s) + 1\n",
    "    l = convert(matches[0])\n",
    "    r = convert(matches[-1])\n",
    "    return l * 10 + r\n",
    "\n",
    "\n",
    "sum = 0\n",
    "\n",
    "with open(input_path) as f:\n",
    "    for line in f:\n",
    "        sum += parse(line)\n",
    "\n",
    "sum"
   ]
  },
  {
   "cell_type": "code",
   "execution_count": 28,
   "metadata": {},
   "outputs": [],
   "source": [
    "def test():\n",
    "    lines = \"\"\"two1nine\n",
    "  eightwothree\n",
    "  abcone2threexyz\n",
    "  xtwone3four\n",
    "  4nineeightseven2\n",
    "  zoneight234\n",
    "  7pqrstsixteen\"\"\"\n",
    "\n",
    "    sum = 0\n",
    "    for line in lines.splitlines():\n",
    "        sum += parse(line)\n",
    "\n",
    "    print(sum)"
   ]
  },
  {
   "cell_type": "code",
   "execution_count": 29,
   "metadata": {},
   "outputs": [
    {
     "name": "stdout",
     "output_type": "stream",
     "text": [
      "281\n"
     ]
    }
   ],
   "source": [
    "test()"
   ]
  },
  {
   "cell_type": "code",
   "execution_count": null,
   "metadata": {},
   "outputs": [],
   "source": []
  }
 ],
 "metadata": {
  "kernelspec": {
   "display_name": "Python 3",
   "language": "python",
   "name": "python3"
  },
  "language_info": {
   "codemirror_mode": {
    "name": "ipython",
    "version": 3
   },
   "file_extension": ".py",
   "mimetype": "text/x-python",
   "name": "python",
   "nbconvert_exporter": "python",
   "pygments_lexer": "ipython3",
   "version": "3.12.0"
  }
 },
 "nbformat": 4,
 "nbformat_minor": 2
}
